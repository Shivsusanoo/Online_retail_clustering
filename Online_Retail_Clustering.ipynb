{
 "cells": [
  {
   "cell_type": "markdown",
   "id": "bf4bc71e",
   "metadata": {},
   "source": [
    "# Importing LIbraries"
   ]
  },
  {
   "cell_type": "code",
   "execution_count": 1,
   "id": "715c8d7e",
   "metadata": {},
   "outputs": [],
   "source": [
    "import pandas as pd\n",
    "import numpy as np\n",
    "import seaborn as sns\n",
    "sns.set_style('darkgrid')\n",
    "import matplotlib.pyplot as plt\n",
    "%matplotlib inline\n",
    "\n",
    "\n",
    "from sklearn.cluster import KMeans\n",
    "from sklearn.preprocessing import StandardScaler\n",
    "\n",
    "import warnings;\n",
    "warnings.filterwarnings('ignore')"
   ]
  },
  {
   "cell_type": "markdown",
   "id": "b1c4bae5",
   "metadata": {},
   "source": [
    "# Loading Dataset"
   ]
  },
  {
   "cell_type": "code",
   "execution_count": 2,
   "id": "5c030ba6",
   "metadata": {},
   "outputs": [
    {
     "data": {
      "text/html": [
       "<div>\n",
       "<style scoped>\n",
       "    .dataframe tbody tr th:only-of-type {\n",
       "        vertical-align: middle;\n",
       "    }\n",
       "\n",
       "    .dataframe tbody tr th {\n",
       "        vertical-align: top;\n",
       "    }\n",
       "\n",
       "    .dataframe thead th {\n",
       "        text-align: right;\n",
       "    }\n",
       "</style>\n",
       "<table border=\"1\" class=\"dataframe\">\n",
       "  <thead>\n",
       "    <tr style=\"text-align: right;\">\n",
       "      <th></th>\n",
       "      <th>InvoiceNo</th>\n",
       "      <th>StockCode</th>\n",
       "      <th>Description</th>\n",
       "      <th>Quantity</th>\n",
       "      <th>InvoiceDate</th>\n",
       "      <th>UnitPrice</th>\n",
       "      <th>CustomerID</th>\n",
       "      <th>Country</th>\n",
       "    </tr>\n",
       "  </thead>\n",
       "  <tbody>\n",
       "    <tr>\n",
       "      <th>0</th>\n",
       "      <td>536365.0</td>\n",
       "      <td>85123A</td>\n",
       "      <td>WHITE HANGING HEART T-LIGHT HOLDER</td>\n",
       "      <td>6.0</td>\n",
       "      <td>2010-12-01 08:26:00</td>\n",
       "      <td>2.55</td>\n",
       "      <td>17850.0</td>\n",
       "      <td>United Kingdom</td>\n",
       "    </tr>\n",
       "    <tr>\n",
       "      <th>1</th>\n",
       "      <td>NaN</td>\n",
       "      <td>71053.0</td>\n",
       "      <td>WHITE METAL LANTERN</td>\n",
       "      <td>6.0</td>\n",
       "      <td>2010-12-01 08:26:00</td>\n",
       "      <td>3.39</td>\n",
       "      <td>17850.0</td>\n",
       "      <td>United Kingdom</td>\n",
       "    </tr>\n",
       "    <tr>\n",
       "      <th>2</th>\n",
       "      <td>536365.0</td>\n",
       "      <td>84406B</td>\n",
       "      <td>CREAM CUPID HEARTS COAT HANGER</td>\n",
       "      <td>8.0</td>\n",
       "      <td>2010-12-01 08:26:00</td>\n",
       "      <td>2.75</td>\n",
       "      <td>17850.0</td>\n",
       "      <td>United Kingdom</td>\n",
       "    </tr>\n",
       "    <tr>\n",
       "      <th>3</th>\n",
       "      <td>536365.0</td>\n",
       "      <td>84029G</td>\n",
       "      <td>KNITTED UNION FLAG HOT WATER BOTTLE</td>\n",
       "      <td>6.0</td>\n",
       "      <td>2010-12-01 08:26:00</td>\n",
       "      <td>3.39</td>\n",
       "      <td>17850.0</td>\n",
       "      <td>United Kingdom</td>\n",
       "    </tr>\n",
       "    <tr>\n",
       "      <th>4</th>\n",
       "      <td>536365.0</td>\n",
       "      <td>84029E</td>\n",
       "      <td>RED WOOLLY HOTTIE WHITE HEART.</td>\n",
       "      <td>6.0</td>\n",
       "      <td>2010-12-01 08:26:00</td>\n",
       "      <td>3.39</td>\n",
       "      <td>17850.0</td>\n",
       "      <td>United Kingdom</td>\n",
       "    </tr>\n",
       "  </tbody>\n",
       "</table>\n",
       "</div>"
      ],
      "text/plain": [
       "  InvoiceNo StockCode                          Description  Quantity  \\\n",
       "0  536365.0    85123A   WHITE HANGING HEART T-LIGHT HOLDER       6.0   \n",
       "1       NaN   71053.0                  WHITE METAL LANTERN       6.0   \n",
       "2  536365.0    84406B       CREAM CUPID HEARTS COAT HANGER       8.0   \n",
       "3  536365.0    84029G  KNITTED UNION FLAG HOT WATER BOTTLE       6.0   \n",
       "4  536365.0    84029E       RED WOOLLY HOTTIE WHITE HEART.       6.0   \n",
       "\n",
       "          InvoiceDate  UnitPrice  CustomerID         Country  \n",
       "0 2010-12-01 08:26:00       2.55     17850.0  United Kingdom  \n",
       "1 2010-12-01 08:26:00       3.39     17850.0  United Kingdom  \n",
       "2 2010-12-01 08:26:00       2.75     17850.0  United Kingdom  \n",
       "3 2010-12-01 08:26:00       3.39     17850.0  United Kingdom  \n",
       "4 2010-12-01 08:26:00       3.39     17850.0  United Kingdom  "
      ]
     },
     "execution_count": 2,
     "metadata": {},
     "output_type": "execute_result"
    }
   ],
   "source": [
    "df = pd.read_excel(r'Online Retail.xlsx')\n",
    "df.head()"
   ]
  },
  {
   "cell_type": "code",
   "execution_count": 3,
   "id": "bdf1f043",
   "metadata": {
    "scrolled": true
   },
   "outputs": [
    {
     "name": "stdout",
     "output_type": "stream",
     "text": [
      "<class 'pandas.core.frame.DataFrame'>\n",
      "RangeIndex: 541909 entries, 0 to 541908\n",
      "Data columns (total 8 columns):\n",
      " #   Column       Non-Null Count   Dtype         \n",
      "---  ------       --------------   -----         \n",
      " 0   InvoiceNo    541908 non-null  object        \n",
      " 1   StockCode    541909 non-null  object        \n",
      " 2   Description  540455 non-null  object        \n",
      " 3   Quantity     541909 non-null  float64       \n",
      " 4   InvoiceDate  541909 non-null  datetime64[ns]\n",
      " 5   UnitPrice    541909 non-null  float64       \n",
      " 6   CustomerID   406829 non-null  float64       \n",
      " 7   Country      541909 non-null  object        \n",
      "dtypes: datetime64[ns](1), float64(3), object(4)\n",
      "memory usage: 33.1+ MB\n"
     ]
    }
   ],
   "source": [
    "df.info()"
   ]
  },
  {
   "cell_type": "code",
   "execution_count": 4,
   "id": "bba2a5e0",
   "metadata": {},
   "outputs": [],
   "source": [
    "num = df.select_dtypes(include='number')\n",
    "char = df.select_dtypes(include='object')"
   ]
  },
  {
   "cell_type": "code",
   "execution_count": 5,
   "id": "78e7f443",
   "metadata": {},
   "outputs": [
    {
     "data": {
      "text/html": [
       "<div>\n",
       "<style scoped>\n",
       "    .dataframe tbody tr th:only-of-type {\n",
       "        vertical-align: middle;\n",
       "    }\n",
       "\n",
       "    .dataframe tbody tr th {\n",
       "        vertical-align: top;\n",
       "    }\n",
       "\n",
       "    .dataframe thead th {\n",
       "        text-align: right;\n",
       "    }\n",
       "</style>\n",
       "<table border=\"1\" class=\"dataframe\">\n",
       "  <thead>\n",
       "    <tr style=\"text-align: right;\">\n",
       "      <th></th>\n",
       "      <th>Quantity</th>\n",
       "      <th>UnitPrice</th>\n",
       "      <th>CustomerID</th>\n",
       "    </tr>\n",
       "  </thead>\n",
       "  <tbody>\n",
       "    <tr>\n",
       "      <th>0</th>\n",
       "      <td>6.0</td>\n",
       "      <td>2.55</td>\n",
       "      <td>17850.0</td>\n",
       "    </tr>\n",
       "    <tr>\n",
       "      <th>1</th>\n",
       "      <td>6.0</td>\n",
       "      <td>3.39</td>\n",
       "      <td>17850.0</td>\n",
       "    </tr>\n",
       "    <tr>\n",
       "      <th>2</th>\n",
       "      <td>8.0</td>\n",
       "      <td>2.75</td>\n",
       "      <td>17850.0</td>\n",
       "    </tr>\n",
       "    <tr>\n",
       "      <th>3</th>\n",
       "      <td>6.0</td>\n",
       "      <td>3.39</td>\n",
       "      <td>17850.0</td>\n",
       "    </tr>\n",
       "    <tr>\n",
       "      <th>4</th>\n",
       "      <td>6.0</td>\n",
       "      <td>3.39</td>\n",
       "      <td>17850.0</td>\n",
       "    </tr>\n",
       "  </tbody>\n",
       "</table>\n",
       "</div>"
      ],
      "text/plain": [
       "   Quantity  UnitPrice  CustomerID\n",
       "0       6.0       2.55     17850.0\n",
       "1       6.0       3.39     17850.0\n",
       "2       8.0       2.75     17850.0\n",
       "3       6.0       3.39     17850.0\n",
       "4       6.0       3.39     17850.0"
      ]
     },
     "execution_count": 5,
     "metadata": {},
     "output_type": "execute_result"
    }
   ],
   "source": [
    "num.head()"
   ]
  },
  {
   "cell_type": "code",
   "execution_count": 6,
   "id": "f62bbf8b",
   "metadata": {},
   "outputs": [
    {
     "data": {
      "text/html": [
       "<div>\n",
       "<style scoped>\n",
       "    .dataframe tbody tr th:only-of-type {\n",
       "        vertical-align: middle;\n",
       "    }\n",
       "\n",
       "    .dataframe tbody tr th {\n",
       "        vertical-align: top;\n",
       "    }\n",
       "\n",
       "    .dataframe thead th {\n",
       "        text-align: right;\n",
       "    }\n",
       "</style>\n",
       "<table border=\"1\" class=\"dataframe\">\n",
       "  <thead>\n",
       "    <tr style=\"text-align: right;\">\n",
       "      <th></th>\n",
       "      <th>InvoiceNo</th>\n",
       "      <th>StockCode</th>\n",
       "      <th>Description</th>\n",
       "      <th>Country</th>\n",
       "    </tr>\n",
       "  </thead>\n",
       "  <tbody>\n",
       "    <tr>\n",
       "      <th>0</th>\n",
       "      <td>536365.0</td>\n",
       "      <td>85123A</td>\n",
       "      <td>WHITE HANGING HEART T-LIGHT HOLDER</td>\n",
       "      <td>United Kingdom</td>\n",
       "    </tr>\n",
       "    <tr>\n",
       "      <th>1</th>\n",
       "      <td>NaN</td>\n",
       "      <td>71053.0</td>\n",
       "      <td>WHITE METAL LANTERN</td>\n",
       "      <td>United Kingdom</td>\n",
       "    </tr>\n",
       "    <tr>\n",
       "      <th>2</th>\n",
       "      <td>536365.0</td>\n",
       "      <td>84406B</td>\n",
       "      <td>CREAM CUPID HEARTS COAT HANGER</td>\n",
       "      <td>United Kingdom</td>\n",
       "    </tr>\n",
       "    <tr>\n",
       "      <th>3</th>\n",
       "      <td>536365.0</td>\n",
       "      <td>84029G</td>\n",
       "      <td>KNITTED UNION FLAG HOT WATER BOTTLE</td>\n",
       "      <td>United Kingdom</td>\n",
       "    </tr>\n",
       "    <tr>\n",
       "      <th>4</th>\n",
       "      <td>536365.0</td>\n",
       "      <td>84029E</td>\n",
       "      <td>RED WOOLLY HOTTIE WHITE HEART.</td>\n",
       "      <td>United Kingdom</td>\n",
       "    </tr>\n",
       "  </tbody>\n",
       "</table>\n",
       "</div>"
      ],
      "text/plain": [
       "  InvoiceNo StockCode                          Description         Country\n",
       "0  536365.0    85123A   WHITE HANGING HEART T-LIGHT HOLDER  United Kingdom\n",
       "1       NaN   71053.0                  WHITE METAL LANTERN  United Kingdom\n",
       "2  536365.0    84406B       CREAM CUPID HEARTS COAT HANGER  United Kingdom\n",
       "3  536365.0    84029G  KNITTED UNION FLAG HOT WATER BOTTLE  United Kingdom\n",
       "4  536365.0    84029E       RED WOOLLY HOTTIE WHITE HEART.  United Kingdom"
      ]
     },
     "execution_count": 6,
     "metadata": {},
     "output_type": "execute_result"
    }
   ],
   "source": [
    "char.head()"
   ]
  },
  {
   "cell_type": "code",
   "execution_count": 7,
   "id": "f01c93c5",
   "metadata": {},
   "outputs": [],
   "source": [
    "char['Cancellation'] = list(map(lambda x: 'yes' if str(x)[0] == 'C' else 'no',char['InvoiceNo']))"
   ]
  },
  {
   "cell_type": "code",
   "execution_count": 8,
   "id": "34dc2419",
   "metadata": {},
   "outputs": [
    {
     "data": {
      "text/plain": [
       "United Kingdom          495478\n",
       "Germany                   9495\n",
       "France                    8557\n",
       "EIRE                      8196\n",
       "Spain                     2533\n",
       "Netherlands               2371\n",
       "Belgium                   2069\n",
       "Switzerland               2002\n",
       "Portugal                  1519\n",
       "Australia                 1259\n",
       "Norway                    1086\n",
       "Italy                      803\n",
       "Channel Islands            758\n",
       "Finland                    695\n",
       "Cyprus                     622\n",
       "Sweden                     462\n",
       "Unspecified                446\n",
       "Austria                    401\n",
       "Denmark                    389\n",
       "Japan                      358\n",
       "Poland                     341\n",
       "Israel                     297\n",
       "USA                        291\n",
       "Hong Kong                  288\n",
       "Singapore                  229\n",
       "Iceland                    182\n",
       "Canada                     151\n",
       "Greece                     146\n",
       "Malta                      127\n",
       "United Arab Emirates        68\n",
       "European Community          61\n",
       "RSA                         58\n",
       "Lebanon                     45\n",
       "Lithuania                   35\n",
       "Brazil                      32\n",
       "Czech Republic              30\n",
       "Bahrain                     19\n",
       "Saudi Arabia                10\n",
       "Name: Country, dtype: int64"
      ]
     },
     "execution_count": 8,
     "metadata": {},
     "output_type": "execute_result"
    }
   ],
   "source": [
    "char.Country.value_counts()"
   ]
  },
  {
   "cell_type": "code",
   "execution_count": 9,
   "id": "ef5fcbe4",
   "metadata": {},
   "outputs": [],
   "source": [
    "char['UK/!UK'] = list(map(lambda x: 'Yes' if x == 'United Kingdom' else 'No', char['Country'] ))"
   ]
  },
  {
   "cell_type": "code",
   "execution_count": 10,
   "id": "a43970b0",
   "metadata": {},
   "outputs": [],
   "source": [
    "char['timeOfDay'] =df['InvoiceDate'].dt.hour "
   ]
  },
  {
   "cell_type": "code",
   "execution_count": 12,
   "id": "83127eef",
   "metadata": {},
   "outputs": [],
   "source": [
    "char['timeOfDay'] = list(map(lambda x: 'Morning' if x >=5 and x<12\n",
    "                         else('Afternoon' if x>=12 and x<18\n",
    "                             else('Evening' if x>=18 and x<22\n",
    "                                 else 'Night')),char['timeOfDay']))"
   ]
  },
  {
   "cell_type": "code",
   "execution_count": 13,
   "id": "8e4757f8",
   "metadata": {},
   "outputs": [
    {
     "data": {
      "text/plain": [
       "Afternoon    378983\n",
       "Morning      150376\n",
       "Evening       12550\n",
       "Name: timeOfDay, dtype: int64"
      ]
     },
     "execution_count": 13,
     "metadata": {},
     "output_type": "execute_result"
    }
   ],
   "source": [
    "char.timeOfDay.value_counts()"
   ]
  },
  {
   "cell_type": "code",
   "execution_count": 14,
   "id": "d5c40d3e",
   "metadata": {},
   "outputs": [],
   "source": [
    "char['Month'] = (df['InvoiceDate'].dt.month_name(locale = 'English'))\n",
    "char['Month'] = list(map(lambda x: x.lower()[:3], char['Month']))"
   ]
  },
  {
   "cell_type": "code",
   "execution_count": 16,
   "id": "5fc06306",
   "metadata": {},
   "outputs": [],
   "source": [
    "char['quarter'] = list(map(lambda x:'Q1' if x in ['jan','feb','mar']\n",
    "                       else ('Q2' if x in ['apr','may','jun']\n",
    "                            else ('Q3' if x in ['jul','aug','sep'] else 'Q4')), char['Month']))"
   ]
  },
  {
   "cell_type": "code",
   "execution_count": 17,
   "id": "ea877a63",
   "metadata": {},
   "outputs": [],
   "source": [
    "char['dayOfWeek'] = df['InvoiceDate'].dt.day_name()\n",
    "char['dayOfWeek'] = list(map(lambda x: x.lower()[:3], char['dayOfWeek']))"
   ]
  },
  {
   "cell_type": "code",
   "execution_count": 18,
   "id": "0c1a6256",
   "metadata": {},
   "outputs": [],
   "source": [
    "num['weekofyear'] = df['InvoiceDate'].dt.isocalendar().week"
   ]
  },
  {
   "cell_type": "code",
   "execution_count": 19,
   "id": "0165730a",
   "metadata": {},
   "outputs": [],
   "source": [
    "num1=num.drop(['CustomerID'],axis='columns')"
   ]
  },
  {
   "cell_type": "code",
   "execution_count": 20,
   "id": "4aa179f4",
   "metadata": {},
   "outputs": [],
   "source": [
    "char1=char.drop([\"InvoiceNo\",'Description',\"StockCode\",\"Country\"],axis='columns')"
   ]
  },
  {
   "cell_type": "markdown",
   "id": "f54c0ca0",
   "metadata": {},
   "source": [
    "## One Hot Encoding"
   ]
  },
  {
   "cell_type": "code",
   "execution_count": 21,
   "id": "0a26812e",
   "metadata": {},
   "outputs": [
    {
     "data": {
      "text/plain": [
       "(541909, 23)"
      ]
     },
     "execution_count": 21,
     "metadata": {},
     "output_type": "execute_result"
    }
   ],
   "source": [
    "X_char_dum = pd.get_dummies(char1,drop_first=True)\n",
    "X_char_dum.shape"
   ]
  },
  {
   "cell_type": "markdown",
   "id": "a59b513f",
   "metadata": {},
   "source": [
    "## Scaling Independent data"
   ]
  },
  {
   "cell_type": "code",
   "execution_count": 24,
   "id": "f7022e0a",
   "metadata": {},
   "outputs": [],
   "source": [
    "scaler = StandardScaler()\n",
    "num_scaled = pd.DataFrame(scaler.fit_transform(num1),index=num1.index,columns=num1.columns).add_suffix('_std')"
   ]
  },
  {
   "cell_type": "code",
   "execution_count": 25,
   "id": "7ac5334d",
   "metadata": {},
   "outputs": [],
   "source": [
    "df_all = pd.concat([num_scaled,X_char_dum],axis=1, join='inner')"
   ]
  },
  {
   "cell_type": "code",
   "execution_count": 26,
   "id": "fc47bb6d",
   "metadata": {},
   "outputs": [
    {
     "data": {
      "text/html": [
       "<div>\n",
       "<style scoped>\n",
       "    .dataframe tbody tr th:only-of-type {\n",
       "        vertical-align: middle;\n",
       "    }\n",
       "\n",
       "    .dataframe tbody tr th {\n",
       "        vertical-align: top;\n",
       "    }\n",
       "\n",
       "    .dataframe thead th {\n",
       "        text-align: right;\n",
       "    }\n",
       "</style>\n",
       "<table border=\"1\" class=\"dataframe\">\n",
       "  <thead>\n",
       "    <tr style=\"text-align: right;\">\n",
       "      <th></th>\n",
       "      <th>Quantity_std</th>\n",
       "      <th>UnitPrice_std</th>\n",
       "      <th>weekofyear_std</th>\n",
       "      <th>Cancellation_yes</th>\n",
       "      <th>UK/!UK_Yes</th>\n",
       "      <th>timeOfDay_Evening</th>\n",
       "      <th>timeOfDay_Morning</th>\n",
       "      <th>Month_aug</th>\n",
       "      <th>Month_dec</th>\n",
       "      <th>Month_feb</th>\n",
       "      <th>...</th>\n",
       "      <th>Month_oct</th>\n",
       "      <th>Month_sep</th>\n",
       "      <th>quarter_Q2</th>\n",
       "      <th>quarter_Q3</th>\n",
       "      <th>quarter_Q4</th>\n",
       "      <th>dayOfWeek_mon</th>\n",
       "      <th>dayOfWeek_sun</th>\n",
       "      <th>dayOfWeek_thu</th>\n",
       "      <th>dayOfWeek_tue</th>\n",
       "      <th>dayOfWeek_wed</th>\n",
       "    </tr>\n",
       "  </thead>\n",
       "  <tbody>\n",
       "    <tr>\n",
       "      <th>0</th>\n",
       "      <td>-0.016289</td>\n",
       "      <td>-0.021301</td>\n",
       "      <td>1.140281</td>\n",
       "      <td>0</td>\n",
       "      <td>1</td>\n",
       "      <td>0</td>\n",
       "      <td>1</td>\n",
       "      <td>0</td>\n",
       "      <td>1</td>\n",
       "      <td>0</td>\n",
       "      <td>...</td>\n",
       "      <td>0</td>\n",
       "      <td>0</td>\n",
       "      <td>0</td>\n",
       "      <td>0</td>\n",
       "      <td>1</td>\n",
       "      <td>0</td>\n",
       "      <td>0</td>\n",
       "      <td>0</td>\n",
       "      <td>0</td>\n",
       "      <td>1</td>\n",
       "    </tr>\n",
       "    <tr>\n",
       "      <th>1</th>\n",
       "      <td>-0.016289</td>\n",
       "      <td>-0.012620</td>\n",
       "      <td>1.140281</td>\n",
       "      <td>0</td>\n",
       "      <td>1</td>\n",
       "      <td>0</td>\n",
       "      <td>1</td>\n",
       "      <td>0</td>\n",
       "      <td>1</td>\n",
       "      <td>0</td>\n",
       "      <td>...</td>\n",
       "      <td>0</td>\n",
       "      <td>0</td>\n",
       "      <td>0</td>\n",
       "      <td>0</td>\n",
       "      <td>1</td>\n",
       "      <td>0</td>\n",
       "      <td>0</td>\n",
       "      <td>0</td>\n",
       "      <td>0</td>\n",
       "      <td>1</td>\n",
       "    </tr>\n",
       "    <tr>\n",
       "      <th>2</th>\n",
       "      <td>-0.007118</td>\n",
       "      <td>-0.019234</td>\n",
       "      <td>1.140281</td>\n",
       "      <td>0</td>\n",
       "      <td>1</td>\n",
       "      <td>0</td>\n",
       "      <td>1</td>\n",
       "      <td>0</td>\n",
       "      <td>1</td>\n",
       "      <td>0</td>\n",
       "      <td>...</td>\n",
       "      <td>0</td>\n",
       "      <td>0</td>\n",
       "      <td>0</td>\n",
       "      <td>0</td>\n",
       "      <td>1</td>\n",
       "      <td>0</td>\n",
       "      <td>0</td>\n",
       "      <td>0</td>\n",
       "      <td>0</td>\n",
       "      <td>1</td>\n",
       "    </tr>\n",
       "    <tr>\n",
       "      <th>3</th>\n",
       "      <td>-0.016289</td>\n",
       "      <td>-0.012620</td>\n",
       "      <td>1.140281</td>\n",
       "      <td>0</td>\n",
       "      <td>1</td>\n",
       "      <td>0</td>\n",
       "      <td>1</td>\n",
       "      <td>0</td>\n",
       "      <td>1</td>\n",
       "      <td>0</td>\n",
       "      <td>...</td>\n",
       "      <td>0</td>\n",
       "      <td>0</td>\n",
       "      <td>0</td>\n",
       "      <td>0</td>\n",
       "      <td>1</td>\n",
       "      <td>0</td>\n",
       "      <td>0</td>\n",
       "      <td>0</td>\n",
       "      <td>0</td>\n",
       "      <td>1</td>\n",
       "    </tr>\n",
       "    <tr>\n",
       "      <th>4</th>\n",
       "      <td>-0.016289</td>\n",
       "      <td>-0.012620</td>\n",
       "      <td>1.140281</td>\n",
       "      <td>0</td>\n",
       "      <td>1</td>\n",
       "      <td>0</td>\n",
       "      <td>1</td>\n",
       "      <td>0</td>\n",
       "      <td>1</td>\n",
       "      <td>0</td>\n",
       "      <td>...</td>\n",
       "      <td>0</td>\n",
       "      <td>0</td>\n",
       "      <td>0</td>\n",
       "      <td>0</td>\n",
       "      <td>1</td>\n",
       "      <td>0</td>\n",
       "      <td>0</td>\n",
       "      <td>0</td>\n",
       "      <td>0</td>\n",
       "      <td>1</td>\n",
       "    </tr>\n",
       "  </tbody>\n",
       "</table>\n",
       "<p>5 rows × 26 columns</p>\n",
       "</div>"
      ],
      "text/plain": [
       "   Quantity_std  UnitPrice_std  weekofyear_std  Cancellation_yes  UK/!UK_Yes  \\\n",
       "0     -0.016289      -0.021301        1.140281                 0           1   \n",
       "1     -0.016289      -0.012620        1.140281                 0           1   \n",
       "2     -0.007118      -0.019234        1.140281                 0           1   \n",
       "3     -0.016289      -0.012620        1.140281                 0           1   \n",
       "4     -0.016289      -0.012620        1.140281                 0           1   \n",
       "\n",
       "   timeOfDay_Evening  timeOfDay_Morning  Month_aug  Month_dec  Month_feb  ...  \\\n",
       "0                  0                  1          0          1          0  ...   \n",
       "1                  0                  1          0          1          0  ...   \n",
       "2                  0                  1          0          1          0  ...   \n",
       "3                  0                  1          0          1          0  ...   \n",
       "4                  0                  1          0          1          0  ...   \n",
       "\n",
       "   Month_oct  Month_sep  quarter_Q2  quarter_Q3  quarter_Q4  dayOfWeek_mon  \\\n",
       "0          0          0           0           0           1              0   \n",
       "1          0          0           0           0           1              0   \n",
       "2          0          0           0           0           1              0   \n",
       "3          0          0           0           0           1              0   \n",
       "4          0          0           0           0           1              0   \n",
       "\n",
       "   dayOfWeek_sun  dayOfWeek_thu  dayOfWeek_tue  dayOfWeek_wed  \n",
       "0              0              0              0              1  \n",
       "1              0              0              0              1  \n",
       "2              0              0              0              1  \n",
       "3              0              0              0              1  \n",
       "4              0              0              0              1  \n",
       "\n",
       "[5 rows x 26 columns]"
      ]
     },
     "execution_count": 26,
     "metadata": {},
     "output_type": "execute_result"
    }
   ],
   "source": [
    "df_all.head()"
   ]
  },
  {
   "cell_type": "code",
   "execution_count": 37,
   "id": "9ae4d3f9",
   "metadata": {},
   "outputs": [
    {
     "data": {
      "text/plain": [
       "Quantity_std         0\n",
       "UnitPrice_std        0\n",
       "weekofyear_std       0\n",
       "Cancellation_yes     0\n",
       "UK/!UK_Yes           0\n",
       "timeOfDay_Evening    0\n",
       "timeOfDay_Morning    0\n",
       "Month_aug            0\n",
       "Month_dec            0\n",
       "Month_feb            0\n",
       "Month_jan            0\n",
       "Month_jul            0\n",
       "Month_jun            0\n",
       "Month_mar            0\n",
       "Month_may            0\n",
       "Month_nov            0\n",
       "Month_oct            0\n",
       "Month_sep            0\n",
       "quarter_Q2           0\n",
       "quarter_Q3           0\n",
       "quarter_Q4           0\n",
       "dayOfWeek_mon        0\n",
       "dayOfWeek_sun        0\n",
       "dayOfWeek_thu        0\n",
       "dayOfWeek_tue        0\n",
       "dayOfWeek_wed        0\n",
       "clusterLable         0\n",
       "dtype: int64"
      ]
     },
     "execution_count": 37,
     "metadata": {},
     "output_type": "execute_result"
    }
   ],
   "source": [
    "df_all.isnull().sum()"
   ]
  },
  {
   "cell_type": "code",
   "execution_count": 39,
   "id": "55055949",
   "metadata": {},
   "outputs": [
    {
     "data": {
      "text/plain": [
       "Quantity_std         0\n",
       "UnitPrice_std        0\n",
       "weekofyear_std       0\n",
       "Cancellation_yes     0\n",
       "UK/!UK_Yes           0\n",
       "timeOfDay_Evening    0\n",
       "timeOfDay_Morning    0\n",
       "Month_aug            0\n",
       "Month_dec            0\n",
       "Month_feb            0\n",
       "Month_jan            0\n",
       "Month_jul            0\n",
       "Month_jun            0\n",
       "Month_mar            0\n",
       "Month_may            0\n",
       "Month_nov            0\n",
       "Month_oct            0\n",
       "Month_sep            0\n",
       "quarter_Q2           0\n",
       "quarter_Q3           0\n",
       "quarter_Q4           0\n",
       "dayOfWeek_mon        0\n",
       "dayOfWeek_sun        0\n",
       "dayOfWeek_thu        0\n",
       "dayOfWeek_tue        0\n",
       "dayOfWeek_wed        0\n",
       "clusterLable         0\n",
       "dtype: int64"
      ]
     },
     "execution_count": 39,
     "metadata": {},
     "output_type": "execute_result"
    }
   ],
   "source": [
    "np.isinf(df_all).sum()"
   ]
  },
  {
   "cell_type": "markdown",
   "id": "7668793a",
   "metadata": {},
   "source": [
    "# Creating Clustering Model"
   ]
  },
  {
   "cell_type": "code",
   "execution_count": 27,
   "id": "753bdb8a",
   "metadata": {},
   "outputs": [
    {
     "data": {
      "image/png": "[encoded data removed]",
      "text/plain": [
       "<Figure size 720x576 with 1 Axes>"
      ]
     },
     "metadata": {
      "needs_background": "light"
     },
     "output_type": "display_data"
    }
   ],
   "source": [
    "plt.figure(figsize=(10, 8))\n",
    "wcss = []\n",
    "K = range(1, 10)\n",
    "for i in K:\n",
    "    kmeans = KMeans(n_clusters = i, init = 'k-means++', random_state = 42)\n",
    "    kmeans.fit(df_all)\n",
    "    wcss.append(kmeans.inertia_)\n",
    "plt.plot(K, wcss,'o-')\n",
    "plt.title('The Elbow Method')\n",
    "plt.xlabel('Number of clusters')\n",
    "plt.ylabel('WCSS')\n",
    "plt.show()"
   ]
  },
  {
   "cell_type": "code",
   "execution_count": 28,
   "id": "6080d37b",
   "metadata": {},
   "outputs": [],
   "source": [
    "kmeans = KMeans(n_clusters=6, init = 'k-means++', random_state=42)\n",
    "kmeans_cluster = kmeans.fit_predict(df_all)"
   ]
  },
  {
   "cell_type": "code",
   "execution_count": 29,
   "id": "32f70342",
   "metadata": {},
   "outputs": [],
   "source": [
    "df_all['clusterLable'] = pd.DataFrame(kmeans_cluster)"
   ]
  },
  {
   "cell_type": "code",
   "execution_count": 31,
   "id": "9c03fa1f",
   "metadata": {
    "scrolled": true
   },
   "outputs": [
    {
     "data": {
      "text/plain": [
       "(541909, 27)"
      ]
     },
     "execution_count": 31,
     "metadata": {},
     "output_type": "execute_result"
    }
   ],
   "source": [
    "df_all.shape"
   ]
  },
  {
   "cell_type": "code",
   "execution_count": 33,
   "id": "517d7d61",
   "metadata": {},
   "outputs": [],
   "source": [
    "num['clusterlabel'] = df_all['clusterLable']"
   ]
  },
  {
   "cell_type": "code",
   "execution_count": 34,
   "id": "1a97eb9a",
   "metadata": {},
   "outputs": [
    {
     "data": {
      "text/plain": [
       "0    213446\n",
       "3    125022\n",
       "5    103813\n",
       "2     99595\n",
       "1        31\n",
       "4         2\n",
       "Name: clusterlabel, dtype: int64"
      ]
     },
     "execution_count": 34,
     "metadata": {},
     "output_type": "execute_result"
    }
   ],
   "source": [
    "num.clusterlabel.value_counts()"
   ]
  },
  {
   "cell_type": "code",
   "execution_count": 35,
   "id": "7ffab5c6",
   "metadata": {},
   "outputs": [],
   "source": [
    "dataset = pd.concat([num,char],axis=1,join='inner')"
   ]
  },
  {
   "cell_type": "code",
   "execution_count": 40,
   "id": "15d398b7",
   "metadata": {},
   "outputs": [],
   "source": [
    "dataset.to_csv('Clustered_Online_Retail.csv')"
   ]
  },
  {
   "cell_type": "markdown",
   "id": "5e000bbe",
   "metadata": {},
   "source": [
    "- CLuster 0 -> AVG Qty 8 | Q4 | international demand | 1.57% cancel | thru out the day AND week \n",
    "- CLuster 1 -> Returns\n",
    "- CLuster 2 -> AVG Qty 8 | Q1 | international demand | 1.87% cancel | thru out the day AND week \n",
    "- CLuster 3 -> AVG Qty 10 | Q3 | international demand | 1.72% cancel | thru out the day AND week\n",
    "- CLuster 4 -> Bulk order\n",
    "- CLuster 5 -> AVG Qty 10 | Q2 | international demand | 1.81% cancel | thru out the day AND week"
   ]
  },
  {
   "cell_type": "code",
   "execution_count": 43,
   "id": "3e75216e",
   "metadata": {},
   "outputs": [],
   "source": [
    "values = [1,4]\n",
    "dataset1 = dataset[dataset['clusterlabel'].isin(values) == False]"
   ]
  },
  {
   "cell_type": "code",
   "execution_count": 44,
   "id": "41c71969",
   "metadata": {},
   "outputs": [
    {
     "data": {
      "text/plain": [
       "0    213446\n",
       "3    125022\n",
       "5    103813\n",
       "2     99595\n",
       "Name: clusterlabel, dtype: int64"
      ]
     },
     "execution_count": 44,
     "metadata": {},
     "output_type": "execute_result"
    }
   ],
   "source": [
    "dataset1.clusterlabel.value_counts()"
   ]
  },
  {
   "cell_type": "code",
   "execution_count": null,
   "id": "5fd3af0b",
   "metadata": {},
   "outputs": [],
   "source": []
  }
 ],
 "metadata": {
  "kernelspec": {
   "display_name": "Python 3 (ipykernel)",
   "language": "python",
   "name": "python3"
  },
  "language_info": {
   "codemirror_mode": {
    "name": "ipython",
    "version": 3
   },
   "file_extension": ".py",
   "mimetype": "text/x-python",
   "name": "python",
   "nbconvert_exporter": "python",
   "pygments_lexer": "ipython3",
   "version": "3.9.12"
  }
 },
 "nbformat": 4,
 "nbformat_minor": 5
}
